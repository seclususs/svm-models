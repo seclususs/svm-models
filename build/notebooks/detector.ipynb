{
 "cells": [
  {
   "cell_type": "markdown",
   "id": "a6f29911",
   "metadata": {},
   "source": [
    "# Pelatihan Detektor Anomali (Out-of-Distribution)\n",
    "\n",
    "Notebook ini untuk membuat model \"penjaga gerbang\" yang dapat mendeteksi apakah sebuah gambar yang diunggah adalah gambar cuaca atau bukan (misalnya, gambar anime, diagram, atau objek lain)."
   ]
  },
  {
   "cell_type": "code",
   "execution_count": 9,
   "id": "7703e5c7",
   "metadata": {},
   "outputs": [],
   "source": [
    "import os\n",
    "import sys\n",
    "import cv2\n",
    "import joblib\n",
    "import numpy as np\n",
    "from tqdm import tqdm\n",
    "from sklearn.svm import SVC\n",
    "from sklearn.model_selection import train_test_split, RandomizedSearchCV\n",
    "from sklearn.metrics import classification_report, confusion_matrix\n",
    "from sklearn.preprocessing import StandardScaler\n",
    "from sklearn.pipeline import Pipeline\n",
    "import seaborn as sns\n",
    "import matplotlib.pyplot as plt\n",
    "from scipy.stats import skew\n",
    "from skimage.feature import hog, local_binary_pattern, graycomatrix, graycoprops\n",
    "\n",
    "sys.path.append(os.path.abspath(os.path.join(os.getcwd(), os.pardir)))\n",
    "from src.configs.config import (\n",
    "    DATA_RAW_PATH, ANOMALY_DATA_PATH, SAVED_MODEL_PATH, CLASSES, IMAGE_SIZE,\n",
    "    HOG_ORIENTATIONS, HOG_PIXELS_PER_CELL, HOG_CELLS_PER_BLOCK\n",
    ")"
   ]
  },
  {
   "cell_type": "markdown",
   "id": "40249b5c",
   "metadata": {},
   "source": [
    "# Fungsi Helper"
   ]
  },
  {
   "cell_type": "code",
   "execution_count": 10,
   "id": "d0e39c66",
   "metadata": {},
   "outputs": [],
   "source": [
    "def resize_image(image):\n",
    "    return cv2.resize(image, IMAGE_SIZE, interpolation=cv2.INTER_AREA)\n",
    "\n",
    "def to_grayscale(image):\n",
    "    return cv2.cvtColor(image, cv2.COLOR_BGR2GRAY)\n",
    "\n",
    "def normalize_image(image):\n",
    "    return image.astype('float32') / 255.0\n",
    "\n",
    "def preprocess_image_for_feature_extraction(image):\n",
    "    resized_color_uint8 = resize_image(image)\n",
    "    gray_image = to_grayscale(resized_color_uint8)\n",
    "    normalized_gray = normalize_image(gray_image)\n",
    "    normalized_color = normalize_image(resized_color_uint8)\n",
    "    return normalized_gray, normalized_color\n",
    "\n",
    "def extract_hog_features(gray_image):\n",
    "    return hog(gray_image, orientations=HOG_ORIENTATIONS, pixels_per_cell=HOG_PIXELS_PER_CELL,\n",
    "               cells_per_block=HOG_CELLS_PER_BLOCK, block_norm='L2-Hys', visualize=False, transform_sqrt=True)\n",
    "\n",
    "def extract_color_histogram(color_image):\n",
    "    hsv_image = cv2.cvtColor((color_image * 255).astype(np.uint8), cv2.COLOR_BGR2HSV)\n",
    "    hist_h = cv2.calcHist([hsv_image], [0], None, [180], [0, 180])\n",
    "    hist_s = cv2.calcHist([hsv_image], [1], None, [32], [0, 256])\n",
    "    hist_v = cv2.calcHist([hsv_image], [2], None, [32], [0, 256])\n",
    "    cv2.normalize(hist_h, hist_h)\n",
    "    cv2.normalize(hist_s, hist_s)\n",
    "    cv2.normalize(hist_v, hist_v)\n",
    "    return np.concatenate((hist_h, hist_s, hist_v)).flatten()\n",
    "\n",
    "def extract_lbp_features(gray_image):\n",
    "    gray_image_uint8 = (gray_image * 255).astype(np.uint8)\n",
    "    radius, n_points = 8, 24\n",
    "    lbp = local_binary_pattern(gray_image_uint8, n_points, radius, method='uniform')\n",
    "    (hist, _) = np.histogram(lbp.ravel(), bins=np.arange(0, n_points + 3), range=(0, n_points + 2))\n",
    "    hist = hist.astype(\"float\")\n",
    "    hist /= (hist.sum() + 1e-6)\n",
    "    return hist\n",
    "\n",
    "def extract_color_moments(color_image):\n",
    "    lab_image = cv2.cvtColor((color_image * 255).astype(np.uint8), cv2.COLOR_BGR2Lab)\n",
    "    l, a, b = cv2.split(lab_image)\n",
    "    channels = [l, a, b]\n",
    "    features = []\n",
    "    for channel in channels:\n",
    "        mean = np.mean(channel)\n",
    "        std = np.std(channel)\n",
    "        if std > 1e-6:\n",
    "            skewness = skew(channel.flatten())\n",
    "        else:\n",
    "            skewness = 0.0\n",
    "        features.extend([mean, std, skewness])\n",
    "    return np.array(features)\n",
    "\n",
    "def extract_glcm_features(gray_image):\n",
    "    gray_image_uint8 = (gray_image * 255).astype(np.uint8)\n",
    "    distances = [1, 3, 5]\n",
    "    angles = [0, np.pi/4, np.pi/2, 3*np.pi/4]\n",
    "    glcm = graycomatrix(gray_image_uint8, distances=distances, angles=angles, symmetric=True, normed=True)\n",
    "    features = []\n",
    "    props = ['contrast', 'dissimilarity', 'homogeneity', 'energy', 'correlation', 'ASM']\n",
    "    for prop in props:\n",
    "        features.append(graycoprops(glcm, prop).ravel())\n",
    "    return np.concatenate(features)\n",
    "\n",
    "def extract_gabor_features(gray_image):\n",
    "    img = (gray_image * 255).astype(np.uint8)\n",
    "    filters = []\n",
    "    ksize = 31\n",
    "    for theta in np.arange(0, np.pi, np.pi / 4):\n",
    "        for lambd in np.arange(np.pi / 4, np.pi, np.pi / 4):\n",
    "            for sigma in (1, 3):\n",
    "                kernel = cv2.getGaborKernel((ksize, ksize), sigma, theta, lambd, 0.5, 0, ktype=cv2.CV_32F)\n",
    "                filters.append(kernel)\n",
    "    features = []\n",
    "    for kernel in filters:\n",
    "        filtered_img = cv2.filter2D(img, cv2.CV_8UC3, kernel)\n",
    "        features.append(filtered_img.mean())\n",
    "        features.append(filtered_img.std())\n",
    "    return np.array(features)\n",
    "\n",
    "def extract_sobel_features(gray_image):\n",
    "    img_uint8 = (gray_image * 255).astype(np.uint8)\n",
    "    sobelx = cv2.Sobel(img_uint8, cv2.CV_64F, 1, 0, ksize=3)\n",
    "    sobely = cv2.Sobel(img_uint8, cv2.CV_64F, 0, 1, ksize=3)\n",
    "    magnitude = np.sqrt(sobelx**2 + sobely**2)\n",
    "    (hist, _) = np.histogram(magnitude.ravel(), bins=32, range=(0, 256))\n",
    "    hist = hist.astype(\"float\")\n",
    "    hist /= (hist.sum() + 1e-6)\n",
    "    return hist\n",
    "\n",
    "def extract_features(gray_image, color_image):\n",
    "    hog_features = extract_hog_features(gray_image)\n",
    "    color_hist_features = extract_color_histogram(color_image)\n",
    "    lbp_features = extract_lbp_features(gray_image)\n",
    "    gabor_features = extract_gabor_features(gray_image)\n",
    "    sobel_features = extract_sobel_features(gray_image)\n",
    "    glcm_features = extract_glcm_features(gray_image)\n",
    "    color_moments = extract_color_moments(color_image)\n",
    "    all_features = np.hstack([hog_features, color_hist_features, lbp_features, gabor_features, sobel_features, glcm_features, color_moments])\n",
    "    if np.isnan(all_features).any():\n",
    "        all_features = np.nan_to_num(all_features)\n",
    "    return all_features\n",
    "\n",
    "def load_and_extract_features(folder_path, desc=\"Extracting\"):\n",
    "    all_features = []\n",
    "    image_paths = []\n",
    "    # Mendukung sub-folder atau flat-folder\n",
    "    for root, _, files in os.walk(folder_path):\n",
    "        for filename in files:\n",
    "            if filename.lower().endswith(('.png', '.jpg', '.jpeg')):\n",
    "                image_paths.append(os.path.join(root, filename))\n",
    "\n",
    "    for img_path in tqdm(image_paths, desc=desc):\n",
    "        try:\n",
    "            image = cv2.imread(img_path)\n",
    "            if image is None: continue\n",
    "            gray_img, color_img = preprocess_image_for_feature_extraction(image)\n",
    "            features = extract_features(gray_img, color_img)\n",
    "            all_features.append(features)\n",
    "        except Exception as e:\n",
    "            print(f\"Error processing {img_path}: {e}\")\n",
    "            \n",
    "    return np.array(all_features)"
   ]
  },
  {
   "cell_type": "markdown",
   "id": "ae1b8d19",
   "metadata": {},
   "source": [
    "## Memuat Data dan Ekstraksi Fitur"
   ]
  },
  {
   "cell_type": "code",
   "execution_count": 11,
   "id": "14ebbac7",
   "metadata": {},
   "outputs": [
    {
     "name": "stdout",
     "output_type": "stream",
     "text": [
      "Memuat data normal dari: d:\\program\\python-project\\svm-models\\build\\data\\raw\n"
     ]
    },
    {
     "name": "stderr",
     "output_type": "stream",
     "text": [
      "Normal Images: 100%|██████████| 1200/1200 [02:12<00:00,  9.02it/s]\n"
     ]
    },
    {
     "name": "stdout",
     "output_type": "stream",
     "text": [
      "\n",
      "Memuat data anomali dari: d:\\program\\python-project\\svm-models\\build\\data\\anomaly\n"
     ]
    },
    {
     "name": "stderr",
     "output_type": "stream",
     "text": [
      "Anomaly Images: 100%|██████████| 1200/1200 [01:40<00:00, 11.99it/s]"
     ]
    },
    {
     "name": "stdout",
     "output_type": "stream",
     "text": [
      "\n",
      "Ekstraksi selesai.\n",
      "Jumlah sampel normal: 1200\n",
      "Jumlah sampel anomali: 886\n",
      "Dimensi fitur: 8531\n"
     ]
    },
    {
     "name": "stderr",
     "output_type": "stream",
     "text": [
      "\n"
     ]
    }
   ],
   "source": [
    "print(f\"Memuat data normal dari: {DATA_RAW_PATH}\")\n",
    "normal_features = load_and_extract_features(DATA_RAW_PATH, desc=\"Normal Images\")\n",
    "\n",
    "print(f\"\\nMemuat data anomali dari: {ANOMALY_DATA_PATH}\")\n",
    "anomaly_features = load_and_extract_features(ANOMALY_DATA_PATH, desc=\"Anomaly Images\")\n",
    "\n",
    "print(f\"\\nEkstraksi selesai.\")\n",
    "print(f\"Jumlah sampel normal: {len(normal_features)}\")\n",
    "print(f\"Jumlah sampel anomali: {len(anomaly_features)}\")\n",
    "print(f\"Dimensi fitur: {normal_features.shape[1]}\")"
   ]
  },
  {
   "cell_type": "markdown",
   "id": "2d574bf5",
   "metadata": {},
   "source": [
    "### Melatih Model Klasifikasi Biner (SVC)"
   ]
  },
  {
   "cell_type": "code",
   "execution_count": null,
   "id": "a5677164",
   "metadata": {},
   "outputs": [
    {
     "name": "stdout",
     "output_type": "stream",
     "text": [
      "Ukuran data latih: 1668\n",
      "Ukuran data uji: 418\n",
      "\n",
      "Memulai pencarian hyperparameter acak untuk SVC biner...\n",
      "Fitting 3 folds for each of 10 candidates, totalling 30 fits\n",
      "[CV] END .........................svc__C=1, svc__gamma=scale; total time=   6.1s\n",
      "[CV] END .........................svc__C=1, svc__gamma=scale; total time=   6.2s\n",
      "[CV] END .........................svc__C=1, svc__gamma=scale; total time=   6.4s\n",
      "[CV] END ..........................svc__C=1, svc__gamma=auto; total time=   6.1s\n",
      "[CV] END ..........................svc__C=1, svc__gamma=auto; total time=   6.3s\n",
      "[CV] END ..........................svc__C=1, svc__gamma=auto; total time=   6.4s\n",
      "[CV] END .........................svc__C=10, svc__gamma=auto; total time=   6.1s\n",
      "[CV] END .........................svc__C=10, svc__gamma=auto; total time=   6.2s\n",
      "[CV] END .........................svc__C=10, svc__gamma=auto; total time=   6.5s\n",
      "[CV] END .......................svc__C=100, svc__gamma=0.001; total time=   7.2s\n",
      "[CV] END .......................svc__C=100, svc__gamma=0.001; total time=   7.2s\n",
      "[CV] END .......................svc__C=100, svc__gamma=0.001; total time=   7.2s\n",
      "[CV] END ........................svc__C=100, svc__gamma=auto; total time=   6.4s\n",
      "[CV] END ........................svc__C=100, svc__gamma=auto; total time=   6.3s\n",
      "[CV] END ........................svc__C=100, svc__gamma=auto; total time=   6.5s\n",
      "[CV] END .........................svc__C=50, svc__gamma=0.01; total time=   7.2s\n",
      "[CV] END .........................svc__C=50, svc__gamma=0.01; total time=   6.8s\n",
      "[CV] END .........................svc__C=50, svc__gamma=0.01; total time=   6.8s\n",
      "[CV] END ........................svc__C=50, svc__gamma=scale; total time=   6.4s\n",
      "[CV] END ........................svc__C=50, svc__gamma=scale; total time=   6.3s\n",
      "[CV] END ........................svc__C=50, svc__gamma=scale; total time=   6.5s\n",
      "[CV] END .........................svc__C=50, svc__gamma=auto; total time=   6.4s\n",
      "[CV] END .........................svc__C=50, svc__gamma=auto; total time=   6.5s\n",
      "[CV] END .........................svc__C=50, svc__gamma=auto; total time=   6.4s\n",
      "[CV] END .........................svc__C=1, svc__gamma=0.001; total time=   6.8s\n",
      "[CV] END .........................svc__C=1, svc__gamma=0.001; total time=   7.2s\n",
      "[CV] END .........................svc__C=1, svc__gamma=0.001; total time=   6.8s\n",
      "[CV] END ........................svc__C=100, svc__gamma=0.01; total time=   7.1s\n",
      "[CV] END ........................svc__C=100, svc__gamma=0.01; total time=   7.1s\n",
      "[CV] END ........................svc__C=100, svc__gamma=0.01; total time=   6.7s\n",
      "\n",
      "Parameter terbaik ditemukan: {'svc__gamma': 'auto', 'svc__C': 10}\n",
      "\n",
      "Laporan Klasifikasi untuk SVC Biner:\n",
      "              precision    recall  f1-score   support\n",
      "\n",
      "Anomali (-1)       0.95      0.89      0.92       178\n",
      "  Normal (1)       0.92      0.97      0.94       240\n",
      "\n",
      "    accuracy                           0.93       418\n",
      "   macro avg       0.94      0.93      0.93       418\n",
      "weighted avg       0.93      0.93      0.93       418\n",
      "\n"
     ]
    },
    {
     "data": {
      "image/png": "[encoded data removed]",
      "text/plain": [
       "<Figure size 600x500 with 2 Axes>"
      ]
     },
     "metadata": {},
     "output_type": "display_data"
    },
    {
     "name": "stdout",
     "output_type": "stream",
     "text": [
      "\n",
      "Model disimpan di: d:\\program\\python-project\\svm-models\\build\\saved_models\\anomaly_detector.pkl\n"
     ]
    }
   ],
   "source": [
    "# Gabungkan fitur\n",
    "X = np.vstack((normal_features, anomaly_features))\n",
    "\n",
    "# Buat label: 1 untuk normal, -1 untuk anomali\n",
    "y = np.array([1] * len(normal_features) + [-1] * len(anomaly_features))\n",
    "\n",
    "# Bagi data untuk pelatihan dan pengujian\n",
    "X_train, X_test, y_train, y_test = train_test_split(X, y, test_size=0.2, random_state=42, stratify=y)\n",
    "print(f\"Ukuran data latih: {len(X_train)}\")\n",
    "print(f\"Ukuran data uji: {len(X_test)}\")\n",
    "\n",
    "pipeline = Pipeline([\n",
    "    ('scaler', StandardScaler()),\n",
    "    ('svc', SVC(kernel='rbf', random_state=42))\n",
    "])\n",
    "\n",
    "param_dist = {\n",
    "    'svc__C': [1, 10, 50, 100],\n",
    "    'svc__gamma': ['scale', 'auto', 0.001, 0.01]\n",
    "}\n",
    "\n",
    "random_search = RandomizedSearchCV(pipeline, param_distributions=param_dist, n_iter=10, cv=3, verbose=2, random_state=42, n_jobs=1, refit=True)\n",
    "print(\"\\nMemulai pencarian hyperparameter acak untuk SVC biner...\")\n",
    "random_search.fit(X_train, y_train)\n",
    "\n",
    "best_model = random_search.best_estimator_\n",
    "print(f\"\\nParameter terbaik ditemukan: {random_search.best_params_}\")\n",
    "\n",
    "# Evaluasi pada set uji\n",
    "y_pred = best_model.predict(X_test)\n",
    "print(\"\\nLaporan Klasifikasi untuk SVC Biner:\")\n",
    "print(classification_report(y_test, y_pred, target_names=['Anomali (-1)', 'Normal (1)']))\n",
    "\n",
    "# Tampilkan Confusion Matrix\n",
    "cm = confusion_matrix(y_test, y_pred)\n",
    "plt.figure(figsize=(6, 5))\n",
    "sns.heatmap(cm, annot=True, fmt='d', cmap='Blues', xticklabels=['Anomali', 'Normal'], yticklabels=['Anomali', 'Normal'])\n",
    "plt.title('Confusion Matrix - SVC Biner')\n",
    "plt.ylabel('Label Sebenarnya')\n",
    "plt.xlabel('Label Prediksi')\n",
    "plt.show()\n",
    "\n",
    "output_dir = os.path.dirname(SAVED_MODEL_PATH)\n",
    "anomaly_model_path = os.path.join(output_dir, 'anomaly_detector.pkl')\n",
    "os.makedirs(output_dir, exist_ok=True)\n",
    "joblib.dump(best_model, anomaly_model_path)\n",
    "print(f\"\\nModel disimpan di: {anomaly_model_path}\")"
   ]
  }
 ],
 "metadata": {
  "kernelspec": {
   "display_name": "Python 3",
   "language": "python",
   "name": "python3"
  },
  "language_info": {
   "codemirror_mode": {
    "name": "ipython",
    "version": 3
   },
   "file_extension": ".py",
   "mimetype": "text/x-python",
   "name": "python",
   "nbconvert_exporter": "python",
   "pygments_lexer": "ipython3",
   "version": "3.11.9"
  }
 },
 "nbformat": 4,
 "nbformat_minor": 5
}
